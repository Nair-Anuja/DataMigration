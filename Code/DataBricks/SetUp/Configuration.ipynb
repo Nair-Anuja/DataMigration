{
 "cells": [
  {
   "cell_type": "markdown",
   "metadata": {
    "application/vnd.databricks.v1+cell": {
     "cellMetadata": {
      "byteLimit": 2048000,
      "rowLimit": 10000
     },
     "inputWidgets": {},
     "nuid": "2a8e4cdd-f16f-48da-8197-4915e3584968",
     "showTitle": false,
     "title": ""
    }
   },
   "source": [
    "### Set up the folder paths to different layers"
   ]
  },
  {
   "cell_type": "code",
   "execution_count": 0,
   "metadata": {
    "application/vnd.databricks.v1+cell": {
     "cellMetadata": {
      "byteLimit": 2048000,
      "rowLimit": 10000
     },
     "inputWidgets": {},
     "nuid": "1e1b21ac-6fdc-49c1-89a7-157bb943e621",
     "showTitle": false,
     "title": ""
    }
   },
   "outputs": [],
   "source": [
    "# Databricks notebook source\n",
    "bronze_folder_path =\"/mnt/sqlserver-migration/bronze\"\n",
    "silver_folder_path =\"/mnt/sqlserver-migration/silver\"\n",
    "gold_folder_path =\"/mnt/sqlserver-migration/gold\"\n"
   ]
  }
 ],
 "metadata": {
  "application/vnd.databricks.v1+notebook": {
   "dashboards": [],
   "language": "python",
   "notebookMetadata": {
    "pythonIndentUnit": 4
   },
   "notebookName": "Configuration",
   "widgets": {}
  }
 },
 "nbformat": 4,
 "nbformat_minor": 0
}
