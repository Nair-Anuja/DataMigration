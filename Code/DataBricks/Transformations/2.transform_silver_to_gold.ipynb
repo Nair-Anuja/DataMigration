{
 "cells": [
  {
   "cell_type": "markdown",
   "metadata": {
    "application/vnd.databricks.v1+cell": {
     "cellMetadata": {
      "byteLimit": 2048000,
      "rowLimit": 10000
     },
     "inputWidgets": {},
     "nuid": "7e28d8eb-2e0b-4e99-988a-96bbf46c328b",
     "showTitle": false,
     "title": ""
    }
   },
   "source": [
    "### Load data from silver layer to Gold Layer\n",
    "#### Steps\n",
    "1. Run the configurations file which has the folder paths defined.\n",
    "2. Load into gold layer after renaming ColumnNames to Column_Names."
   ]
  },
  {
   "cell_type": "code",
   "execution_count": 0,
   "metadata": {
    "application/vnd.databricks.v1+cell": {
     "cellMetadata": {
      "byteLimit": 2048000,
      "rowLimit": 10000
     },
     "inputWidgets": {},
     "nuid": "d279152c-7928-4bc9-8104-da391c45c13b",
     "showTitle": false,
     "title": ""
    }
   },
   "outputs": [],
   "source": [
    "\n",
    "%run \"../SetUp/Configuration\""
   ]
  },
  {
   "cell_type": "code",
   "execution_count": 0,
   "metadata": {
    "application/vnd.databricks.v1+cell": {
     "cellMetadata": {
      "byteLimit": 2048000,
      "rowLimit": 10000
     },
     "inputWidgets": {},
     "nuid": "c45d6b77-c25b-445b-8e57-10e84c081842",
     "showTitle": false,
     "title": ""
    }
   },
   "outputs": [],
   "source": [
    "\n",
    "from pyspark.sql import SparkSession\n",
    "from pyspark.sql.functions import col, regexp_replace"
   ]
  },
  {
   "cell_type": "code",
   "execution_count": 0,
   "metadata": {
    "application/vnd.databricks.v1+cell": {
     "cellMetadata": {
      "byteLimit": 2048000,
      "rowLimit": 10000
     },
     "inputWidgets": {},
     "nuid": "ab63dd89-9c76-4920-9214-b988f97e6608",
     "showTitle": false,
     "title": ""
    }
   },
   "outputs": [],
   "source": [
    "# Populate the table names from the silver layer in a list\n",
    "table_names=[]\n",
    "for table in dbutils.fs.ls(f'{silver_folder_path}/SalesLT/'):\n",
    "    table_names.append(table.name.split('/')[0])\n",
    "\n",
    "for table in table_names:\n",
    "    df = spark.read \\\n",
    "    .option(\"header\", True)\\\n",
    "    .format('delta')\\\n",
    "    .load(f'{silver_folder_path}/SalesLT/{table}/')\n",
    "    \n",
    "    # Rename the columns from ColumnNames to Column_Names\n",
    "    for col in df.columns:\n",
    "        new_col_name= \"\".join(\"_\"+ l if l.isupper()  and not col[i-1].isupper()  else l for i , l in enumerate(col)).lstrip(\"_\")\n",
    "        df = df.withColumnRenamed(col, new_col_name)\n",
    "\n",
    "    # Write the modified datafarmes to gold layer    \n",
    "    output_path = f'{gold_folder_path}/SalesLT/{table}/'\n",
    "    df.write.format('delta').mode(\"overwrite\").save(output_path)        "
   ]
  }
 ],
 "metadata": {
  "application/vnd.databricks.v1+notebook": {
   "dashboards": [],
   "language": "python",
   "notebookMetadata": {
    "pythonIndentUnit": 4
   },
   "notebookName": "2.transform_silver_to_gold",
   "widgets": {}
  }
 },
 "nbformat": 4,
 "nbformat_minor": 0
}
